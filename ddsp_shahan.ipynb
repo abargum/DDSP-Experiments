{
 "cells": [
  {
   "cell_type": "code",
   "execution_count": 2,
   "metadata": {},
   "outputs": [],
   "source": [
    "import math\n",
    "import yaml\n",
    "import librosa\n",
    "import torch\n",
    "import torch.nn as nn\n",
    "from os import path\n",
    "import numpy as np\n",
    "from tqdm import tqdm\n",
    "import matplotlib.pyplot as plt\n",
    "from effortless_config import Config\n",
    "from torch.utils.data import DataLoader\n",
    "from torch.utils.tensorboard import SummaryWriter\n",
    "\n",
    "from core import get_scheduler, multiscale_fft, safe_log, mean_std_loudness"
   ]
  },
  {
   "cell_type": "code",
   "execution_count": 3,
   "metadata": {},
   "outputs": [
    {
     "name": "stdout",
     "output_type": "stream",
     "text": [
      "Using device: cpu\n"
     ]
    }
   ],
   "source": [
    "from models import DDSP_signal_only, DDSP_with_features\n",
    "device = torch.device(\"cuda:0\" if torch.cuda.is_available() else \"cpu\")\n",
    "print(\"Using device:\", device)\n",
    "\n",
    "class args(Config):\n",
    "    CONFIG = \"config.yaml\"\n",
    "\n",
    "args.parse_args(\"\")\n",
    "with open(args.CONFIG, \"r\") as config:\n",
    "    config = yaml.safe_load(config)"
   ]
  },
  {
   "cell_type": "code",
   "execution_count": 4,
   "metadata": {},
   "outputs": [],
   "source": [
    "def conv1d_layer(in_size, output_size, kernel_size, n_layers, padding_same=False):\n",
    "    dimensions = [in_size] + (n_layers) * [output_size]\n",
    "    net = []\n",
    "    for i in range(n_layers):\n",
    "        \n",
    "        if padding_same:\n",
    "            net.append(torch.nn.Conv1d(dimensions[i], dimensions[i + 1], kernel_size, padding='same'))\n",
    "        else:\n",
    "            net.append(torch.nn.Conv1d(dimensions[i], dimensions[i + 1], kernel_size))\n",
    "\n",
    "        net.append(torch.nn.BatchNorm1d(dimensions[i + 1]))\n",
    "        net.append(torch.nn.ReLU())\n",
    "    return torch.nn.Sequential(*net)\n",
    "\n",
    "class Test(torch.nn.Module):\n",
    "    def __init__(self):\n",
    "        super().__init__()\n",
    "\n",
    "        self.conv1d = conv1d_layer(1, 512, 5, 3)\n",
    "        self.lstm = torch.nn.LSTM(1044, 1024, num_layers=3, batch_first=True)\n",
    "        self.dense = torch.nn.Linear(1024, 80)\n",
    "        self.conv1d_2 = conv1d_layer(80, 512, 5, 4, padding_same=True)\n",
    "        self.residual_conv = torch.nn.Conv1d(512, 80, 5, padding='same')\n",
    "        self.batch_norm = torch.nn.BatchNorm1d(80)\n",
    "\n",
    "    def forward(self, pitch, loudness, embedding):\n",
    "\n",
    "        cat_vector = torch.cat([\n",
    "            pitch,\n",
    "            loudness,\n",
    "            embedding,\n",
    "        ], -1).unsqueeze(1)\n",
    "\n",
    "        x = self.conv1d(cat_vector)\n",
    "        x = self.lstm(x)[0]\n",
    "        x = self.dense(x)\n",
    "        x_res = self.conv1d_2(torch.permute(x, (0, 2, 1)))\n",
    "        x_res = self.residual_conv(x_res)\n",
    "        x_res = self.batch_norm(x_res)\n",
    "        x_res = torch.permute(x_res, (0, 2, 1))\n",
    "        x = x + x_res\n",
    "\n",
    "        return x\n",
    "\n",
    "ddsp_model = Test()"
   ]
  },
  {
   "cell_type": "code",
   "execution_count": 5,
   "metadata": {},
   "outputs": [
    {
     "name": "stdout",
     "output_type": "stream",
     "text": [
      "Size of dataset: 81 \n",
      "Size of sig batch: torch.Size([16, 64000]) \n",
      "Size of sig batch: torch.Size([16, 400]) \n",
      "Size of sig batch: torch.Size([16, 400]) \n",
      "Size of sig batch: torch.Size([16, 256])\n"
     ]
    }
   ],
   "source": [
    "from datasets.dataset_w_embedding import Dataset, get_files\n",
    "from effortless_config import Config\n",
    "import yaml\n",
    "import torch\n",
    "\n",
    "#get_files(\"config.yaml\")\n",
    "\n",
    "class args(Config):\n",
    "    CONFIG = \"config.yaml\"\n",
    "\n",
    "args.parse_args(\"\")\n",
    "with open(args.CONFIG, \"r\") as config:\n",
    "    config = yaml.safe_load(config)\n",
    "\n",
    "out_dir = config[\"preprocess\"][\"out_dir\"]\n",
    "\n",
    "dataset = Dataset(out_dir)\n",
    "batch_size = config[\"hyperparams\"][\"batch_size\"]\n",
    "dataloader_train = torch.utils.data.DataLoader(dataset,\n",
    "                                        batch_size,\n",
    "                                        True,\n",
    "                                        drop_last=True,\n",
    "                                        )\n",
    "\n",
    "print(\"Size of dataset:\", len(dataset), \"\\nSize of sig batch:\", next(iter(dataloader_train))['signals'].size(), \"\\nSize of sig batch:\", next(iter(dataloader_train))['pitches'].size(), \"\\nSize of sig batch:\", next(iter(dataloader_train))['loudness'].size(), \"\\nSize of sig batch:\", next(iter(dataloader_train))['embeddings'].size())"
   ]
  },
  {
   "cell_type": "code",
   "execution_count": 6,
   "metadata": {},
   "outputs": [],
   "source": [
    "class args(Config):\n",
    "    CONFIG = \"config.yaml\"\n",
    "    NAME = \"debug/male_speech\"\n",
    "    ROOT = \"runs\"\n",
    "    STEPS = 500000\n",
    "    START_LR = 1e-3\n",
    "    STOP_LR = 1e-4\n",
    "    DECAY_OVER = 400000\n",
    "\n",
    "mean_loudness, std_loudness = mean_std_loudness(dataloader_train)\n",
    "config[\"data\"][\"mean_loudness\"] = mean_loudness\n",
    "config[\"data\"][\"std_loudness\"] = std_loudness\n",
    "\n",
    "writer = SummaryWriter(path.join(args.ROOT, args.NAME), flush_secs=20)\n",
    "\n",
    "with open(path.join(args.ROOT, args.NAME, \"config.yaml\"), \"w\") as out_config:\n",
    "    yaml.safe_dump(config, out_config)\n",
    "\n",
    "opt = torch.optim.Adam(ddsp_model.parameters(), lr=args.START_LR)\n",
    "\n",
    "schedule = get_scheduler(\n",
    "    len(dataloader_train),\n",
    "    args.START_LR,\n",
    "    args.STOP_LR,\n",
    "    args.DECAY_OVER,\n",
    ")\n",
    "\n",
    "best_loss = float(\"inf\")\n",
    "mean_loss = 0\n",
    "n_element = 0\n",
    "step = 0\n",
    "epochs = int(np.ceil(args.STEPS / len(dataloader_train)))"
   ]
  },
  {
   "cell_type": "code",
   "execution_count": 8,
   "metadata": {},
   "outputs": [
    {
     "name": "stderr",
     "output_type": "stream",
     "text": [
      "  0%|          | 0/100000 [03:30<?, ?it/s]\n"
     ]
    },
    {
     "ename": "RuntimeError",
     "evalue": "Boolean value of Tensor with more than one value is ambiguous",
     "output_type": "error",
     "traceback": [
      "\u001b[0;31m---------------------------------------------------------------------------\u001b[0m",
      "\u001b[0;31mRuntimeError\u001b[0m                              Traceback (most recent call last)",
      "\u001b[0;32m<ipython-input-8-76859c58fef5>\u001b[0m in \u001b[0;36m<module>\u001b[0;34m\u001b[0m\n\u001b[1;32m     35\u001b[0m         \u001b[0mtotal_loss\u001b[0m \u001b[0;34m+=\u001b[0m \u001b[0mloss\u001b[0m\u001b[0;34m.\u001b[0m\u001b[0mitem\u001b[0m\u001b[0;34m(\u001b[0m\u001b[0;34m)\u001b[0m\u001b[0;34m\u001b[0m\u001b[0;34m\u001b[0m\u001b[0m\n\u001b[1;32m     36\u001b[0m \u001b[0;34m\u001b[0m\u001b[0m\n\u001b[0;32m---> 37\u001b[0;31m     \u001b[0;32mif\u001b[0m \u001b[0;32mnot\u001b[0m \u001b[0me\u001b[0m \u001b[0;34m%\u001b[0m \u001b[0;36m10\u001b[0m\u001b[0;34m:\u001b[0m\u001b[0;34m\u001b[0m\u001b[0;34m\u001b[0m\u001b[0m\n\u001b[0m\u001b[1;32m     38\u001b[0m         \u001b[0;32mif\u001b[0m \u001b[0mmean_loss\u001b[0m \u001b[0;34m<\u001b[0m \u001b[0mbest_loss\u001b[0m\u001b[0;34m:\u001b[0m\u001b[0;34m\u001b[0m\u001b[0;34m\u001b[0m\u001b[0m\n\u001b[1;32m     39\u001b[0m             \u001b[0mbest_loss\u001b[0m \u001b[0;34m=\u001b[0m \u001b[0mmean_loss\u001b[0m\u001b[0;34m\u001b[0m\u001b[0;34m\u001b[0m\u001b[0m\n",
      "\u001b[0;31mRuntimeError\u001b[0m: Boolean value of Tensor with more than one value is ambiguous"
     ]
    }
   ],
   "source": [
    "import soundfile as sf\n",
    "import torchaudio.transforms as T\n",
    "\n",
    "losses = []\n",
    "\n",
    "mel_spec = T.MelSpectrogram(sample_rate=16000, n_mels=80, n_fft=1024, hop_length=125)\n",
    "criterion = torch.nn.MSELoss()\n",
    "\n",
    "for e in tqdm(range(epochs)):\n",
    "    total_loss = 0\n",
    "    for batch in dataloader_train:\n",
    "        s = batch['signals'].to(device)\n",
    "        p = batch['pitches'].to(device)\n",
    "        l = batch['loudness'].to(device)\n",
    "        em = batch['embeddings'].to(device)\n",
    "\n",
    "        l = (l - mean_loudness) / std_loudness\n",
    "\n",
    "        y = ddsp_model(p, l, em).squeeze(-1)\n",
    "        X1 = torch.permute(mel_spec(s)[:, :, :-1], (0, 2, 1))\n",
    "\n",
    "        loss = 0\n",
    "        loss = criterion(X1, y)\n",
    "\n",
    "        opt.zero_grad()\n",
    "        loss.backward()\n",
    "        opt.step()\n",
    "\n",
    "        writer.add_scalar(\"loss\", loss.item(), step)\n",
    "\n",
    "        step += 1\n",
    "\n",
    "        n_element += 1\n",
    "        mean_loss += (loss.item() - mean_loss) / n_element\n",
    "        total_loss += loss.item()\n",
    "\n",
    "    if not e % 10:\n",
    "        if mean_loss < best_loss:\n",
    "            best_loss = mean_loss\n",
    "            torch.save(\n",
    "                ddsp_model.state_dict(),\n",
    "                path.join(args.ROOT, args.NAME, \"state.pth\"),\n",
    "            )\n",
    "\n",
    "        mean_loss = 0\n",
    "        n_element = 0\n",
    "    \n",
    "    total_loss /= len(dataloader_train)\n",
    "    losses.append(total_loss)\n"
   ]
  }
 ],
 "metadata": {
  "kernelspec": {
   "display_name": "Python 3.8.5 ('base')",
   "language": "python",
   "name": "python3"
  },
  "language_info": {
   "codemirror_mode": {
    "name": "ipython",
    "version": 3
   },
   "file_extension": ".py",
   "mimetype": "text/x-python",
   "name": "python",
   "nbconvert_exporter": "python",
   "pygments_lexer": "ipython3",
   "version": "3.8.5"
  },
  "orig_nbformat": 4,
  "vscode": {
   "interpreter": {
    "hash": "74e9452f59dbd6e3c7713ab707f05756754026fd1fa12e62d8045d15ad45af3c"
   }
  }
 },
 "nbformat": 4,
 "nbformat_minor": 2
}
