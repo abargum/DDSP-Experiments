{
 "cells": [
  {
   "cell_type": "code",
   "execution_count": 1,
   "metadata": {},
   "outputs": [],
   "source": [
    "import math\n",
    "import yaml\n",
    "import librosa\n",
    "import torch\n",
    "import torch.nn as nn\n",
    "from os import path\n",
    "import numpy as np\n",
    "from tqdm import tqdm\n",
    "import matplotlib.pyplot as plt\n",
    "from effortless_config import Config\n",
    "from torch.utils.data import DataLoader\n",
    "from torch.utils.tensorboard import SummaryWriter\n",
    "\n",
    "from core import get_scheduler, multiscale_fft, safe_log, mean_std_loudness"
   ]
  },
  {
   "cell_type": "code",
   "execution_count": 3,
   "metadata": {},
   "outputs": [
    {
     "name": "stdout",
     "output_type": "stream",
     "text": [
      "Using device: cuda:0\n"
     ]
    }
   ],
   "source": [
    "from models import DDSP_signal_only, DDSP_with_features\n",
    "device = torch.device(\"cuda:0\" if torch.cuda.is_available() else \"cpu\")\n",
    "print(\"Using device:\", device)\n",
    "\n",
    "class args(Config):\n",
    "    CONFIG = \"config.yaml\"\n",
    "\n",
    "args.parse_args(\"\")\n",
    "with open(args.CONFIG, \"r\") as config:\n",
    "    config = yaml.safe_load(config)\n",
    "\n",
    "ddsp_model = DDSP_with_features(**config[\"model\"]).to(device)"
   ]
  },
  {
   "cell_type": "code",
   "execution_count": 3,
   "metadata": {},
   "outputs": [],
   "source": [
    "# from datasets.dataset_signal import Dataset\n",
    "\n",
    "# dataset = Dataset(config)\n",
    "# batch_size = config[\"hyperparams\"][\"batch_size\"]\n",
    "# dataloader = torch.utils.data.DataLoader(dataset,\n",
    "#                                         batch_size,\n",
    "#                                         shuffle=False,\n",
    "#                                         drop_last=False,\n",
    "#                                         )\n",
    "\n",
    "# print(\"Size of dataset:\", len(dataset), \"\\nSize of sig batch:\", next(iter(dataloader)).size())"
   ]
  },
  {
   "cell_type": "code",
   "execution_count": 4,
   "metadata": {},
   "outputs": [
    {
     "name": "stdout",
     "output_type": "stream",
     "text": [
      "Size of dataset: 81 \n",
      "Size of sig batch: torch.Size([16, 64000]) \n",
      "Size of sig batch: torch.Size([16, 400]) \n",
      "Size of sig batch: torch.Size([16, 400])\n"
     ]
    }
   ],
   "source": [
    "from datasets.dataset_all import Dataset, get_files\n",
    "from effortless_config import Config\n",
    "import yaml\n",
    "import torch\n",
    "\n",
    "#get_files(\"config.yaml\")\n",
    "\n",
    "class args(Config):\n",
    "    CONFIG = \"config.yaml\"\n",
    "\n",
    "args.parse_args(\"\")\n",
    "with open(args.CONFIG, \"r\") as config:\n",
    "    config = yaml.safe_load(config)\n",
    "\n",
    "out_dir = config[\"preprocess\"][\"out_dir\"]\n",
    "\n",
    "dataset = Dataset(out_dir)\n",
    "batch_size = config[\"hyperparams\"][\"batch_size\"]\n",
    "dataloader_train = torch.utils.data.DataLoader(dataset,\n",
    "                                        batch_size,\n",
    "                                        True,\n",
    "                                        drop_last=True,\n",
    "                                        )\n",
    "\n",
    "print(\"Size of dataset:\", len(dataset), \"\\nSize of sig batch:\", next(iter(dataloader_train))['signals'].size(), \"\\nSize of sig batch:\", next(iter(dataloader_train))['pitches'].size(), \"\\nSize of sig batch:\", next(iter(dataloader_train))['loudness'].size())"
   ]
  },
  {
   "cell_type": "code",
   "execution_count": 5,
   "metadata": {},
   "outputs": [],
   "source": [
    "class args(Config):\n",
    "    CONFIG = \"config.yaml\"\n",
    "    NAME = \"debug/male_speech\"\n",
    "    ROOT = \"runs\"\n",
    "    STEPS = 500000\n",
    "    START_LR = 1e-3\n",
    "    STOP_LR = 1e-4\n",
    "    DECAY_OVER = 400000\n",
    "\n",
    "mean_loudness, std_loudness = mean_std_loudness(dataloader_train)\n",
    "config[\"data\"][\"mean_loudness\"] = mean_loudness\n",
    "config[\"data\"][\"std_loudness\"] = std_loudness\n",
    "\n",
    "writer = SummaryWriter(path.join(args.ROOT, args.NAME), flush_secs=20)\n",
    "\n",
    "with open(path.join(args.ROOT, args.NAME, \"config.yaml\"), \"w\") as out_config:\n",
    "    yaml.safe_dump(config, out_config)\n",
    "\n",
    "opt = torch.optim.Adam(ddsp_model.parameters(), lr=args.START_LR)\n",
    "\n",
    "schedule = get_scheduler(\n",
    "    len(dataloader_train),\n",
    "    args.START_LR,\n",
    "    args.STOP_LR,\n",
    "    args.DECAY_OVER,\n",
    ")\n",
    "\n",
    "best_loss = float(\"inf\")\n",
    "mean_loss = 0\n",
    "n_element = 0\n",
    "step = 0\n",
    "epochs = int(np.ceil(args.STEPS / len(dataloader_train)))"
   ]
  },
  {
   "cell_type": "code",
   "execution_count": 6,
   "metadata": {},
   "outputs": [],
   "source": [
    "# losses = []\n",
    "\n",
    "# def train(model, loader, optimizer):\n",
    "#     model.train()\n",
    "#     device = next(model.parameters()).device\n",
    "#     total_loss = 0\n",
    "\n",
    "#     for batch in loader:\n",
    "#         batch = batch.to(device)\n",
    "#         y = ddsp_model(batch).squeeze(-1)\n",
    "                \n",
    "#         ori_stft = multiscale_fft(\n",
    "#             batch,\n",
    "#             config[\"train\"][\"scales\"],\n",
    "#             config[\"train\"][\"overlap\"],\n",
    "#         )\n",
    "#         rec_stft = multiscale_fft(\n",
    "#             y,\n",
    "#             config[\"train\"][\"scales\"],\n",
    "#             config[\"train\"][\"overlap\"],\n",
    "#         )\n",
    "\n",
    "#         loss = 0\n",
    "#         for s_x, s_y in zip(ori_stft, rec_stft):\n",
    "#             lin_loss = (s_x - s_y).abs().mean()\n",
    "#             log_loss = (safe_log(s_x) - safe_log(s_y)).abs().mean()\n",
    "#             loss = loss + lin_loss + log_loss\n",
    "\n",
    "#         optimizer.zero_grad()\n",
    "#         loss.backward()\n",
    "#         optimizer.step()\n",
    "#         total_loss += loss.item()\n",
    "\n",
    "#     total_loss /= len(loader)\n",
    "#     losses.append(total_loss)\n",
    "    \n",
    "#     return total_loss\n",
    "\n",
    "# for e in tqdm(range(epochs)):\n",
    "#     loss = train(ddsp_model, dataloader, opt)\n",
    "#     print(\"Epoch {} -- Loss {:3E}\".format(e, loss))"
   ]
  },
  {
   "cell_type": "code",
   "execution_count": 7,
   "metadata": {},
   "outputs": [
    {
     "name": "stderr",
     "output_type": "stream",
     "text": [
      " 15%|█▍        | 5625/38462 [1:32:01<8:57:15,  1.02it/s]\n"
     ]
    },
    {
     "ename": "KeyboardInterrupt",
     "evalue": "",
     "output_type": "error",
     "traceback": [
      "\u001b[1;31m---------------------------------------------------------------------------\u001b[0m",
      "\u001b[1;31mKeyboardInterrupt\u001b[0m                         Traceback (most recent call last)",
      "\u001b[1;32md:\\Student projects\\ML-AND\\DDSP-Experiments\\ddsp_simple.ipynb Cell 7\u001b[0m in \u001b[0;36m<cell line: 5>\u001b[1;34m()\u001b[0m\n\u001b[0;32m     <a href='vscode-notebook-cell:/d%3A/Student%20projects/ML-AND/DDSP-Experiments/ddsp_simple.ipynb#W6sZmlsZQ%3D%3D?line=9'>10</a>\u001b[0m l \u001b[39m=\u001b[39m batch[\u001b[39m'\u001b[39m\u001b[39mloudness\u001b[39m\u001b[39m'\u001b[39m]\u001b[39m.\u001b[39munsqueeze(\u001b[39m-\u001b[39m\u001b[39m1\u001b[39m)\u001b[39m.\u001b[39mto(device)\n\u001b[0;32m     <a href='vscode-notebook-cell:/d%3A/Student%20projects/ML-AND/DDSP-Experiments/ddsp_simple.ipynb#W6sZmlsZQ%3D%3D?line=11'>12</a>\u001b[0m l \u001b[39m=\u001b[39m (l \u001b[39m-\u001b[39m mean_loudness) \u001b[39m/\u001b[39m std_loudness\n\u001b[1;32m---> <a href='vscode-notebook-cell:/d%3A/Student%20projects/ML-AND/DDSP-Experiments/ddsp_simple.ipynb#W6sZmlsZQ%3D%3D?line=13'>14</a>\u001b[0m y \u001b[39m=\u001b[39m ddsp_model(s, p, l)\u001b[39m.\u001b[39msqueeze(\u001b[39m-\u001b[39m\u001b[39m1\u001b[39m)\n\u001b[0;32m     <a href='vscode-notebook-cell:/d%3A/Student%20projects/ML-AND/DDSP-Experiments/ddsp_simple.ipynb#W6sZmlsZQ%3D%3D?line=15'>16</a>\u001b[0m ori_stft \u001b[39m=\u001b[39m multiscale_fft(\n\u001b[0;32m     <a href='vscode-notebook-cell:/d%3A/Student%20projects/ML-AND/DDSP-Experiments/ddsp_simple.ipynb#W6sZmlsZQ%3D%3D?line=16'>17</a>\u001b[0m     s,\n\u001b[0;32m     <a href='vscode-notebook-cell:/d%3A/Student%20projects/ML-AND/DDSP-Experiments/ddsp_simple.ipynb#W6sZmlsZQ%3D%3D?line=17'>18</a>\u001b[0m     config[\u001b[39m\"\u001b[39m\u001b[39mtrain\u001b[39m\u001b[39m\"\u001b[39m][\u001b[39m\"\u001b[39m\u001b[39mscales\u001b[39m\u001b[39m\"\u001b[39m],\n\u001b[0;32m     <a href='vscode-notebook-cell:/d%3A/Student%20projects/ML-AND/DDSP-Experiments/ddsp_simple.ipynb#W6sZmlsZQ%3D%3D?line=18'>19</a>\u001b[0m     config[\u001b[39m\"\u001b[39m\u001b[39mtrain\u001b[39m\u001b[39m\"\u001b[39m][\u001b[39m\"\u001b[39m\u001b[39moverlap\u001b[39m\u001b[39m\"\u001b[39m],\n\u001b[0;32m     <a href='vscode-notebook-cell:/d%3A/Student%20projects/ML-AND/DDSP-Experiments/ddsp_simple.ipynb#W6sZmlsZQ%3D%3D?line=19'>20</a>\u001b[0m )\n\u001b[0;32m     <a href='vscode-notebook-cell:/d%3A/Student%20projects/ML-AND/DDSP-Experiments/ddsp_simple.ipynb#W6sZmlsZQ%3D%3D?line=20'>21</a>\u001b[0m rec_stft \u001b[39m=\u001b[39m multiscale_fft(\n\u001b[0;32m     <a href='vscode-notebook-cell:/d%3A/Student%20projects/ML-AND/DDSP-Experiments/ddsp_simple.ipynb#W6sZmlsZQ%3D%3D?line=21'>22</a>\u001b[0m     y,\n\u001b[0;32m     <a href='vscode-notebook-cell:/d%3A/Student%20projects/ML-AND/DDSP-Experiments/ddsp_simple.ipynb#W6sZmlsZQ%3D%3D?line=22'>23</a>\u001b[0m     config[\u001b[39m\"\u001b[39m\u001b[39mtrain\u001b[39m\u001b[39m\"\u001b[39m][\u001b[39m\"\u001b[39m\u001b[39mscales\u001b[39m\u001b[39m\"\u001b[39m],\n\u001b[0;32m     <a href='vscode-notebook-cell:/d%3A/Student%20projects/ML-AND/DDSP-Experiments/ddsp_simple.ipynb#W6sZmlsZQ%3D%3D?line=23'>24</a>\u001b[0m     config[\u001b[39m\"\u001b[39m\u001b[39mtrain\u001b[39m\u001b[39m\"\u001b[39m][\u001b[39m\"\u001b[39m\u001b[39moverlap\u001b[39m\u001b[39m\"\u001b[39m],\n\u001b[0;32m     <a href='vscode-notebook-cell:/d%3A/Student%20projects/ML-AND/DDSP-Experiments/ddsp_simple.ipynb#W6sZmlsZQ%3D%3D?line=24'>25</a>\u001b[0m )\n",
      "File \u001b[1;32mc:\\Users\\Me-Lab_Chimaera\\anaconda3\\lib\\site-packages\\torch\\nn\\modules\\module.py:1130\u001b[0m, in \u001b[0;36mModule._call_impl\u001b[1;34m(self, *input, **kwargs)\u001b[0m\n\u001b[0;32m   1126\u001b[0m \u001b[39m# If we don't have any hooks, we want to skip the rest of the logic in\u001b[39;00m\n\u001b[0;32m   1127\u001b[0m \u001b[39m# this function, and just call forward.\u001b[39;00m\n\u001b[0;32m   1128\u001b[0m \u001b[39mif\u001b[39;00m \u001b[39mnot\u001b[39;00m (\u001b[39mself\u001b[39m\u001b[39m.\u001b[39m_backward_hooks \u001b[39mor\u001b[39;00m \u001b[39mself\u001b[39m\u001b[39m.\u001b[39m_forward_hooks \u001b[39mor\u001b[39;00m \u001b[39mself\u001b[39m\u001b[39m.\u001b[39m_forward_pre_hooks \u001b[39mor\u001b[39;00m _global_backward_hooks\n\u001b[0;32m   1129\u001b[0m         \u001b[39mor\u001b[39;00m _global_forward_hooks \u001b[39mor\u001b[39;00m _global_forward_pre_hooks):\n\u001b[1;32m-> 1130\u001b[0m     \u001b[39mreturn\u001b[39;00m forward_call(\u001b[39m*\u001b[39m\u001b[39minput\u001b[39m, \u001b[39m*\u001b[39m\u001b[39m*\u001b[39mkwargs)\n\u001b[0;32m   1131\u001b[0m \u001b[39m# Do not call functions when jit is used\u001b[39;00m\n\u001b[0;32m   1132\u001b[0m full_backward_hooks, non_full_backward_hooks \u001b[39m=\u001b[39m [], []\n",
      "File \u001b[1;32md:\\Student projects\\ML-AND\\DDSP-Experiments\\models.py:226\u001b[0m, in \u001b[0;36mDDSP_with_features.forward\u001b[1;34m(self, signal, pitch, loudness)\u001b[0m\n\u001b[0;32m    222\u001b[0m pitch \u001b[39m=\u001b[39m upsample(pitch, \u001b[39mself\u001b[39m\u001b[39m.\u001b[39mblock_size)\n\u001b[0;32m    224\u001b[0m harmonic \u001b[39m=\u001b[39m harmonic_synth(pitch, amplitudes, \u001b[39mself\u001b[39m\u001b[39m.\u001b[39msample_rate)\n\u001b[1;32m--> 226\u001b[0m impulse \u001b[39m=\u001b[39m amp_to_impulse_response(param_noise, \u001b[39mself\u001b[39;49m\u001b[39m.\u001b[39;49mblock_size)\n\u001b[0;32m    227\u001b[0m noise \u001b[39m=\u001b[39m torch\u001b[39m.\u001b[39mrand(\n\u001b[0;32m    228\u001b[0m     impulse\u001b[39m.\u001b[39mshape[\u001b[39m0\u001b[39m],\n\u001b[0;32m    229\u001b[0m     impulse\u001b[39m.\u001b[39mshape[\u001b[39m1\u001b[39m],\n\u001b[0;32m    230\u001b[0m     \u001b[39mself\u001b[39m\u001b[39m.\u001b[39mblock_size,\n\u001b[0;32m    231\u001b[0m )\u001b[39m.\u001b[39mto(impulse) \u001b[39m*\u001b[39m \u001b[39m2\u001b[39m \u001b[39m-\u001b[39m \u001b[39m1\u001b[39m\n\u001b[0;32m    233\u001b[0m noise \u001b[39m=\u001b[39m fft_convolve(noise, impulse)\u001b[39m.\u001b[39mcontiguous()\n",
      "File \u001b[1;32md:\\Student projects\\ML-AND\\DDSP-Experiments\\core.py:111\u001b[0m, in \u001b[0;36mamp_to_impulse_response\u001b[1;34m(amp, target_size)\u001b[0m\n\u001b[0;32m    107\u001b[0m win \u001b[39m=\u001b[39m torch\u001b[39m.\u001b[39mhann_window(filter_size, dtype\u001b[39m=\u001b[39mamp\u001b[39m.\u001b[39mdtype, device\u001b[39m=\u001b[39mamp\u001b[39m.\u001b[39mdevice)\n\u001b[0;32m    109\u001b[0m amp \u001b[39m=\u001b[39m amp \u001b[39m*\u001b[39m win\n\u001b[1;32m--> 111\u001b[0m amp \u001b[39m=\u001b[39m nn\u001b[39m.\u001b[39mfunctional\u001b[39m.\u001b[39mpad(amp, (\u001b[39m0\u001b[39m, \u001b[39mint\u001b[39;49m(target_size) \u001b[39m-\u001b[39m \u001b[39mint\u001b[39m(filter_size)))\n\u001b[0;32m    112\u001b[0m amp \u001b[39m=\u001b[39m torch\u001b[39m.\u001b[39mroll(amp, \u001b[39m-\u001b[39mfilter_size \u001b[39m/\u001b[39m\u001b[39m/\u001b[39m \u001b[39m2\u001b[39m, \u001b[39m-\u001b[39m\u001b[39m1\u001b[39m)\n\u001b[0;32m    114\u001b[0m \u001b[39mreturn\u001b[39;00m amp\n",
      "\u001b[1;31mKeyboardInterrupt\u001b[0m: "
     ]
    }
   ],
   "source": [
    "import soundfile as sf\n",
    "\n",
    "losses = []\n",
    "\n",
    "for e in tqdm(range(epochs)):\n",
    "    total_loss = 0\n",
    "    for batch in dataloader_train:\n",
    "        s = batch['signals'].to(device)\n",
    "        p = batch['pitches'].unsqueeze(-1).to(device)\n",
    "        l = batch['loudness'].unsqueeze(-1).to(device)\n",
    "\n",
    "        l = (l - mean_loudness) / std_loudness\n",
    "\n",
    "        y = ddsp_model(s, p, l).squeeze(-1)\n",
    "\n",
    "        ori_stft = multiscale_fft(\n",
    "            s,\n",
    "            config[\"train\"][\"scales\"],\n",
    "            config[\"train\"][\"overlap\"],\n",
    "        )\n",
    "        rec_stft = multiscale_fft(\n",
    "            y,\n",
    "            config[\"train\"][\"scales\"],\n",
    "            config[\"train\"][\"overlap\"],\n",
    "        )\n",
    "\n",
    "        loss = 0\n",
    "        for s_x, s_y in zip(ori_stft, rec_stft):\n",
    "            lin_loss = (s_x - s_y).abs().mean()\n",
    "            log_loss = (safe_log(s_x) - safe_log(s_y)).abs().mean()\n",
    "            loss = loss + lin_loss + log_loss\n",
    "\n",
    "        opt.zero_grad()\n",
    "        loss.backward()\n",
    "        opt.step()\n",
    "\n",
    "        writer.add_scalar(\"loss\", loss.item(), step)\n",
    "\n",
    "        step += 1\n",
    "\n",
    "        n_element += 1\n",
    "        mean_loss += (loss.item() - mean_loss) / n_element\n",
    "        total_loss += loss.item()\n",
    "\n",
    "    if not e % 10:\n",
    "        writer.add_scalar(\"lr\", schedule(e), e)\n",
    "        writer.add_scalar(\"reverb_decay\", ddsp_model.reverb.decay.item(), e)\n",
    "        writer.add_scalar(\"reverb_wet\", ddsp_model.reverb.wet.item(), e)\n",
    "        # scheduler.step()\n",
    "        if mean_loss < best_loss:\n",
    "            best_loss = mean_loss\n",
    "            torch.save(\n",
    "                ddsp_model.state_dict(),\n",
    "                path.join(args.ROOT, args.NAME, \"state.pth\"),\n",
    "            )\n",
    "\n",
    "        mean_loss = 0\n",
    "        n_element = 0\n",
    "\n",
    "        audio = torch.cat([s, y], -1).reshape(-1).detach().cpu().numpy()\n",
    "\n",
    "        sf.write(\n",
    "            path.join(args.ROOT, args.NAME, f\"eval_{e:06d}.wav\"),\n",
    "            audio,\n",
    "            config[\"preprocess\"][\"sample_rate\"],\n",
    "        )\n",
    "    \n",
    "    total_loss /= len(dataloader_train)\n",
    "    losses.append(total_loss)\n"
   ]
  },
  {
   "cell_type": "code",
   "execution_count": 11,
   "metadata": {},
   "outputs": [
    {
     "data": {
      "text/plain": [
       "Text(0.5, 0, 'Epoch')"
      ]
     },
     "execution_count": 11,
     "metadata": {},
     "output_type": "execute_result"
    },
    {
     "data": {
      "image/png": "[encoded data removed]",
      "text/plain": [
       "<Figure size 432x288 with 1 Axes>"
      ]
     },
     "metadata": {
      "needs_background": "light"
     },
     "output_type": "display_data"
    }
   ],
   "source": [
    "import matplotlib.pyplot as plt\n",
    "\n",
    "plt.semilogy(losses)\n",
    "plt.title('Model Loss')\n",
    "plt.ylabel('Loss')\n",
    "plt.xlabel('Epoch')"
   ]
  },
  {
   "cell_type": "code",
   "execution_count": 24,
   "metadata": {},
   "outputs": [
    {
     "name": "stdout",
     "output_type": "stream",
     "text": [
      "Size of dataset: 81 \n",
      "Size of sig batch: torch.Size([1, 64000]) \n",
      "Size of sig batch: torch.Size([1, 250]) \n",
      "Size of sig batch: torch.Size([1, 250])\n"
     ]
    }
   ],
   "source": [
    "from datasets.dataset_all import Dataset, get_files\n",
    "import torch\n",
    "import yaml\n",
    "from effortless_config import Config\n",
    "\n",
    "#get_files(\"config_test.yaml\")\n",
    "\n",
    "class args(Config):\n",
    "    CONFIG = \"config_test.yaml\"\n",
    "\n",
    "args.parse_args(\"\")\n",
    "with open(args.CONFIG, \"r\") as config:\n",
    "    config = yaml.safe_load(config)\n",
    "\n",
    "out_dir = config[\"preprocess\"][\"out_dir\"]\n",
    "\n",
    "dataset = Dataset(out_dir)\n",
    "batch_size = config[\"hyperparams\"][\"batch_size\"]\n",
    "dataloader_test = torch.utils.data.DataLoader(dataset,\n",
    "                                        batch_size,\n",
    "                                        True,\n",
    "                                        drop_last=True,\n",
    "                                        )\n",
    "\n",
    "print(\"Size of dataset:\", len(dataset), \"\\nSize of sig batch:\", next(iter(dataloader_test))['signals'].size(), \"\\nSize of sig batch:\", next(iter(dataloader_test))['pitches'].size(), \"\\nSize of sig batch:\", next(iter(dataloader_test))['loudness'].size())"
   ]
  },
  {
   "cell_type": "code",
   "execution_count": 51,
   "metadata": {},
   "outputs": [
    {
     "name": "stdout",
     "output_type": "stream",
     "text": [
      "Using device: cuda:0\n",
      "-5.893357717073881 5.072404036155114\n",
      "tensor(-9.7821, device='cuda:0')\n"
     ]
    }
   ],
   "source": [
    "from models import DDSP_with_features\n",
    "import soundfile as sf\n",
    "\n",
    "device = torch.device(\"cuda:0\" if torch.cuda.is_available() else \"cpu\")\n",
    "print(\"Using device:\", device)\n",
    "\n",
    "class args(Config):\n",
    "    CONFIG = \"config_test.yaml\"\n",
    "\n",
    "args.parse_args(\"\")\n",
    "with open(args.CONFIG, \"r\") as config:\n",
    "    config = yaml.safe_load(config)\n",
    "\n",
    "ddsp_model = DDSP_with_features(**config[\"model\"]).to(device)\n",
    "\n",
    "ddsp_model.load_state_dict(torch.load(\"runs/debug/male_speech/state.pth\"))\n",
    "\n",
    "class args(Config):\n",
    "    CONFIG = \"runs/debug/male_speech/config.yaml\"\n",
    "\n",
    "args.parse_args(\"\")\n",
    "with open(args.CONFIG, \"r\") as config:\n",
    "    config = yaml.safe_load(config)\n",
    "\n",
    "mean_loudness = config[\"data\"][\"mean_loudness\"]\n",
    "std_loudness = config[\"data\"][\"std_loudness\"]\n",
    "\n",
    "print(mean_loudness, std_loudness)\n",
    "\n",
    "batch_train = next(iter(dataloader_train))\n",
    "p_train = batch_train['pitches'].unsqueeze(-1).to(device)\n",
    "median_pitch_train = torch.median(p_train)\n",
    "\n",
    "batch = next(iter(dataloader_test))\n",
    "s = batch['signals'].to(device)\n",
    "p = batch['pitches'].unsqueeze(-1).to(device)\n",
    "l = batch['loudness'].unsqueeze(-1).to(device)\n",
    "\n",
    "l = (l - mean_loudness) / std_loudness\n",
    "median_pitch_test = torch.median(p)\n",
    "n = 12 * torch.log2(median_pitch_train/median_pitch_test)\n",
    "p = torch.pow(torch.tensor(2), n/torch.tensor(12)) * p\n",
    "\n",
    "y = ddsp_model(s, p, l).squeeze(-1)\n",
    "y = torch.cat([s, y], -1).reshape(-1).detach().cpu().numpy()\n",
    "sf.write(\"male_speech_test.wav\", y, 16000)"
   ]
  }
 ],
 "metadata": {
  "kernelspec": {
   "display_name": "Python 3.8.5 ('base')",
   "language": "python",
   "name": "python3"
  },
  "language_info": {
   "codemirror_mode": {
    "name": "ipython",
    "version": 3
   },
   "file_extension": ".py",
   "mimetype": "text/x-python",
   "name": "python",
   "nbconvert_exporter": "python",
   "pygments_lexer": "ipython3",
   "version": "3.8.5"
  },
  "orig_nbformat": 4,
  "vscode": {
   "interpreter": {
    "hash": "74e9452f59dbd6e3c7713ab707f05756754026fd1fa12e62d8045d15ad45af3c"
   }
  }
 },
 "nbformat": 4,
 "nbformat_minor": 2
}
