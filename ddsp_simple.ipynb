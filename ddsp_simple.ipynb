{
 "cells": [
  {
   "cell_type": "code",
   "execution_count": 1,
   "metadata": {},
   "outputs": [],
   "source": [
    "import math\n",
    "import yaml\n",
    "import librosa\n",
    "import torch\n",
    "import torch.nn as nn\n",
    "from os import path\n",
    "import numpy as np\n",
    "from tqdm import tqdm\n",
    "import matplotlib.pyplot as plt\n",
    "from effortless_config import Config\n",
    "from torch.utils.data import DataLoader\n",
    "from torch.utils.tensorboard import SummaryWriter\n",
    "\n",
    "from core import harmonic_synth, amp_to_impulse_response, fft_convolve\n",
    "from core import mlp, gru, scale_function, remove_above_nyquist, upsample, get_scheduler, multiscale_fft, safe_log, mean_std_loudness"
   ]
  },
  {
   "cell_type": "code",
   "execution_count": 2,
   "metadata": {},
   "outputs": [
    {
     "name": "stdout",
     "output_type": "stream",
     "text": [
      "Using device: cpu\n",
      "DDSP_with_features(\n",
      "  (latent_z): Latent_Z(\n",
      "    (z_vector): Torch_MFCC_Extractor(\n",
      "      (mfcc): MFCC(\n",
      "        (amplitude_to_DB): AmplitudeToDB()\n",
      "        (MelSpectrogram): MelSpectrogram(\n",
      "          (spectrogram): Spectrogram()\n",
      "          (mel_scale): MelScale()\n",
      "        )\n",
      "      )\n",
      "    )\n",
      "    (norm_layer): InstanceNorm1d(30, eps=1e-05, momentum=0.1, affine=False, track_running_stats=False)\n",
      "    (gru): GRU(30, 512, batch_first=True)\n",
      "    (dense_z): Linear(in_features=512, out_features=16, bias=True)\n",
      "  )\n",
      "  (decoder): Decoder_with_Z(\n",
      "    (in_mlps): ModuleList(\n",
      "      (0): Sequential(\n",
      "        (0): Linear(in_features=1, out_features=512, bias=True)\n",
      "        (1): LayerNorm((512,), eps=1e-05, elementwise_affine=True)\n",
      "        (2): LeakyReLU(negative_slope=0.01)\n",
      "        (3): Linear(in_features=512, out_features=512, bias=True)\n",
      "        (4): LayerNorm((512,), eps=1e-05, elementwise_affine=True)\n",
      "        (5): LeakyReLU(negative_slope=0.01)\n",
      "        (6): Linear(in_features=512, out_features=512, bias=True)\n",
      "        (7): LayerNorm((512,), eps=1e-05, elementwise_affine=True)\n",
      "        (8): LeakyReLU(negative_slope=0.01)\n",
      "      )\n",
      "      (1): Sequential(\n",
      "        (0): Linear(in_features=1, out_features=512, bias=True)\n",
      "        (1): LayerNorm((512,), eps=1e-05, elementwise_affine=True)\n",
      "        (2): LeakyReLU(negative_slope=0.01)\n",
      "        (3): Linear(in_features=512, out_features=512, bias=True)\n",
      "        (4): LayerNorm((512,), eps=1e-05, elementwise_affine=True)\n",
      "        (5): LeakyReLU(negative_slope=0.01)\n",
      "        (6): Linear(in_features=512, out_features=512, bias=True)\n",
      "        (7): LayerNorm((512,), eps=1e-05, elementwise_affine=True)\n",
      "        (8): LeakyReLU(negative_slope=0.01)\n",
      "      )\n",
      "    )\n",
      "    (in_mlp_z): Linear(in_features=16, out_features=512, bias=True)\n",
      "    (gru): GRU(1536, 512, batch_first=True)\n",
      "    (out_mlp): Sequential(\n",
      "      (0): Linear(in_features=514, out_features=512, bias=True)\n",
      "      (1): LayerNorm((512,), eps=1e-05, elementwise_affine=True)\n",
      "      (2): LeakyReLU(negative_slope=0.01)\n",
      "      (3): Linear(in_features=512, out_features=512, bias=True)\n",
      "      (4): LayerNorm((512,), eps=1e-05, elementwise_affine=True)\n",
      "      (5): LeakyReLU(negative_slope=0.01)\n",
      "      (6): Linear(in_features=512, out_features=512, bias=True)\n",
      "      (7): LayerNorm((512,), eps=1e-05, elementwise_affine=True)\n",
      "      (8): LeakyReLU(negative_slope=0.01)\n",
      "    )\n",
      "    (output_to_harmonic): Linear(in_features=512, out_features=101, bias=True)\n",
      "    (output_to_noise): Linear(in_features=512, out_features=65, bias=True)\n",
      "  )\n",
      "  (reverb): Reverb()\n",
      ")\n"
     ]
    }
   ],
   "source": [
    "from models import DDSP_signal_only, DDSP_with_features\n",
    "device = torch.device(\"cuda:0\" if torch.cuda.is_available() else \"cpu\")\n",
    "print(\"Using device:\", device)\n",
    "\n",
    "class args(Config):\n",
    "    CONFIG = \"config.yaml\"\n",
    "\n",
    "args.parse_args(\"\")\n",
    "with open(args.CONFIG, \"r\") as config:\n",
    "    config = yaml.safe_load(config)\n",
    "\n",
    "ddsp_model = DDSP_with_features(**config[\"model\"]).to(device)\n",
    "print(ddsp_model)"
   ]
  },
  {
   "cell_type": "code",
   "execution_count": 3,
   "metadata": {},
   "outputs": [],
   "source": [
    "# from datasets.dataset_signal import Dataset\n",
    "\n",
    "# dataset = Dataset(config)\n",
    "# batch_size = config[\"hyperparams\"][\"batch_size\"]\n",
    "# dataloader = torch.utils.data.DataLoader(dataset,\n",
    "#                                         batch_size,\n",
    "#                                         shuffle=False,\n",
    "#                                         drop_last=False,\n",
    "#                                         )\n",
    "\n",
    "# print(\"Size of dataset:\", len(dataset), \"\\nSize of sig batch:\", next(iter(dataloader)).size())"
   ]
  },
  {
   "cell_type": "code",
   "execution_count": 4,
   "metadata": {},
   "outputs": [
    {
     "name": "stdout",
     "output_type": "stream",
     "text": [
      "Size of dataset: 81 \n",
      "Size of sig batch: torch.Size([16, 64000]) \n",
      "Size of sig batch: torch.Size([16, 400]) \n",
      "Size of sig batch: torch.Size([16, 400])\n"
     ]
    }
   ],
   "source": [
    "from datasets.dataset_all import Dataset, get_files\n",
    "from effortless_config import Config\n",
    "import yaml\n",
    "import torch\n",
    "\n",
    "#get_files()\n",
    "\n",
    "class args(Config):\n",
    "    CONFIG = \"config.yaml\"\n",
    "\n",
    "args.parse_args(\"\")\n",
    "with open(args.CONFIG, \"r\") as config:\n",
    "    config = yaml.safe_load(config)\n",
    "\n",
    "out_dir = config[\"preprocess\"][\"out_dir\"]\n",
    "\n",
    "dataset = Dataset(out_dir)\n",
    "batch_size = config[\"hyperparams\"][\"batch_size\"]\n",
    "dataloader = torch.utils.data.DataLoader(dataset,\n",
    "                                        batch_size,\n",
    "                                        True,\n",
    "                                        drop_last=True,\n",
    "                                        )\n",
    "\n",
    "print(\"Size of dataset:\", len(dataset), \"\\nSize of sig batch:\", next(iter(dataloader))['signals'].size(), \"\\nSize of sig batch:\", next(iter(dataloader))['pitches'].size(), \"\\nSize of sig batch:\", next(iter(dataloader))['loudness'].size())"
   ]
  },
  {
   "cell_type": "code",
   "execution_count": 5,
   "metadata": {},
   "outputs": [],
   "source": [
    "class args(Config):\n",
    "    CONFIG = \"config.yaml\"\n",
    "    NAME = \"debug\"\n",
    "    ROOT = \"runs\"\n",
    "    STEPS = 500000\n",
    "    START_LR = 1e-3\n",
    "    STOP_LR = 1e-4\n",
    "    DECAY_OVER = 400000\n",
    "\n",
    "mean_loudness, std_loudness = mean_std_loudness(dataloader)\n",
    "config[\"data\"][\"mean_loudness\"] = mean_loudness\n",
    "config[\"data\"][\"std_loudness\"] = std_loudness\n",
    "\n",
    "writer = SummaryWriter(path.join(args.ROOT, args.NAME), flush_secs=20)\n",
    "\n",
    "with open(path.join(args.ROOT, args.NAME, \"config.yaml\"), \"w\") as out_config:\n",
    "    yaml.safe_dump(config, out_config)\n",
    "\n",
    "opt = torch.optim.Adam(ddsp_model.parameters(), lr=args.START_LR)\n",
    "\n",
    "schedule = get_scheduler(\n",
    "    len(dataloader),\n",
    "    args.START_LR,\n",
    "    args.STOP_LR,\n",
    "    args.DECAY_OVER,\n",
    ")\n",
    "\n",
    "best_loss = float(\"inf\")\n",
    "mean_loss = 0\n",
    "n_element = 0\n",
    "step = 0\n",
    "epochs = int(np.ceil(args.STEPS / len(dataloader)))"
   ]
  },
  {
   "cell_type": "code",
   "execution_count": 6,
   "metadata": {},
   "outputs": [],
   "source": [
    "# losses = []\n",
    "\n",
    "# def train(model, loader, optimizer):\n",
    "#     model.train()\n",
    "#     device = next(model.parameters()).device\n",
    "#     total_loss = 0\n",
    "\n",
    "#     for batch in loader:\n",
    "#         batch = batch.to(device)\n",
    "#         y = ddsp_model(batch).squeeze(-1)\n",
    "                \n",
    "#         ori_stft = multiscale_fft(\n",
    "#             batch,\n",
    "#             config[\"train\"][\"scales\"],\n",
    "#             config[\"train\"][\"overlap\"],\n",
    "#         )\n",
    "#         rec_stft = multiscale_fft(\n",
    "#             y,\n",
    "#             config[\"train\"][\"scales\"],\n",
    "#             config[\"train\"][\"overlap\"],\n",
    "#         )\n",
    "\n",
    "#         loss = 0\n",
    "#         for s_x, s_y in zip(ori_stft, rec_stft):\n",
    "#             lin_loss = (s_x - s_y).abs().mean()\n",
    "#             log_loss = (safe_log(s_x) - safe_log(s_y)).abs().mean()\n",
    "#             loss = loss + lin_loss + log_loss\n",
    "\n",
    "#         optimizer.zero_grad()\n",
    "#         loss.backward()\n",
    "#         optimizer.step()\n",
    "#         total_loss += loss.item()\n",
    "\n",
    "#     total_loss /= len(loader)\n",
    "#     losses.append(total_loss)\n",
    "    \n",
    "#     return total_loss\n",
    "\n",
    "# for e in tqdm(range(epochs)):\n",
    "#     loss = train(ddsp_model, dataloader, opt)\n",
    "#     print(\"Epoch {} -- Loss {:3E}\".format(e, loss))"
   ]
  },
  {
   "cell_type": "code",
   "execution_count": 7,
   "metadata": {},
   "outputs": [
    {
     "name": "stderr",
     "output_type": "stream",
     "text": [
      "  0%|          | 0/100000 [00:00<?, ?it/s]"
     ]
    },
    {
     "name": "stdout",
     "output_type": "stream",
     "text": [
      "b: torch.Size([16, 400, 1])\n",
      "a: torch.Size([16, 64000, 1])\n",
      "b: torch.Size([16, 400, 1])\n",
      "a: torch.Size([16, 64000, 1])\n"
     ]
    },
    {
     "name": "stderr",
     "output_type": "stream",
     "text": [
      "  0%|          | 0/100000 [00:19<?, ?it/s]\n"
     ]
    },
    {
     "ename": "KeyboardInterrupt",
     "evalue": "",
     "output_type": "error",
     "traceback": [
      "\u001b[0;31m---------------------------------------------------------------------------\u001b[0m",
      "\u001b[0;31mKeyboardInterrupt\u001b[0m                         Traceback (most recent call last)",
      "\u001b[0;32m<ipython-input-7-e7d9a3fef822>\u001b[0m in \u001b[0;36m<module>\u001b[0;34m\u001b[0m\n\u001b[1;32m      9\u001b[0m         \u001b[0ml\u001b[0m \u001b[0;34m=\u001b[0m \u001b[0;34m(\u001b[0m\u001b[0ml\u001b[0m \u001b[0;34m-\u001b[0m \u001b[0mmean_loudness\u001b[0m\u001b[0;34m)\u001b[0m \u001b[0;34m/\u001b[0m \u001b[0mstd_loudness\u001b[0m\u001b[0;34m\u001b[0m\u001b[0;34m\u001b[0m\u001b[0m\n\u001b[1;32m     10\u001b[0m \u001b[0;34m\u001b[0m\u001b[0m\n\u001b[0;32m---> 11\u001b[0;31m         \u001b[0my\u001b[0m \u001b[0;34m=\u001b[0m \u001b[0mddsp_model\u001b[0m\u001b[0;34m(\u001b[0m\u001b[0ms\u001b[0m\u001b[0;34m,\u001b[0m \u001b[0mp\u001b[0m\u001b[0;34m,\u001b[0m \u001b[0ml\u001b[0m\u001b[0;34m)\u001b[0m\u001b[0;34m.\u001b[0m\u001b[0msqueeze\u001b[0m\u001b[0;34m(\u001b[0m\u001b[0;34m-\u001b[0m\u001b[0;36m1\u001b[0m\u001b[0;34m)\u001b[0m\u001b[0;34m\u001b[0m\u001b[0;34m\u001b[0m\u001b[0m\n\u001b[0m\u001b[1;32m     12\u001b[0m \u001b[0;34m\u001b[0m\u001b[0m\n\u001b[1;32m     13\u001b[0m         ori_stft = multiscale_fft(\n",
      "\u001b[0;32m~/opt/anaconda3/lib/python3.8/site-packages/torch/nn/modules/module.py\u001b[0m in \u001b[0;36m_call_impl\u001b[0;34m(self, *input, **kwargs)\u001b[0m\n\u001b[1;32m   1049\u001b[0m         if not (self._backward_hooks or self._forward_hooks or self._forward_pre_hooks or _global_backward_hooks\n\u001b[1;32m   1050\u001b[0m                 or _global_forward_hooks or _global_forward_pre_hooks):\n\u001b[0;32m-> 1051\u001b[0;31m             \u001b[0;32mreturn\u001b[0m \u001b[0mforward_call\u001b[0m\u001b[0;34m(\u001b[0m\u001b[0;34m*\u001b[0m\u001b[0minput\u001b[0m\u001b[0;34m,\u001b[0m \u001b[0;34m**\u001b[0m\u001b[0mkwargs\u001b[0m\u001b[0;34m)\u001b[0m\u001b[0;34m\u001b[0m\u001b[0;34m\u001b[0m\u001b[0m\n\u001b[0m\u001b[1;32m   1052\u001b[0m         \u001b[0;31m# Do not call functions when jit is used\u001b[0m\u001b[0;34m\u001b[0m\u001b[0;34m\u001b[0m\u001b[0;34m\u001b[0m\u001b[0m\n\u001b[1;32m   1053\u001b[0m         \u001b[0mfull_backward_hooks\u001b[0m\u001b[0;34m,\u001b[0m \u001b[0mnon_full_backward_hooks\u001b[0m \u001b[0;34m=\u001b[0m \u001b[0;34m[\u001b[0m\u001b[0;34m]\u001b[0m\u001b[0;34m,\u001b[0m \u001b[0;34m[\u001b[0m\u001b[0;34m]\u001b[0m\u001b[0;34m\u001b[0m\u001b[0;34m\u001b[0m\u001b[0m\n",
      "\u001b[0;32m~/Documents/Python_Code/DDSP-Experiments/models.py\u001b[0m in \u001b[0;36mforward\u001b[0;34m(self, signal, pitch, loudness)\u001b[0m\n\u001b[1;32m    225\u001b[0m         \u001b[0mprint\u001b[0m\u001b[0;34m(\u001b[0m\u001b[0;34m\"a:\"\u001b[0m\u001b[0;34m,\u001b[0m \u001b[0mpitch\u001b[0m\u001b[0;34m.\u001b[0m\u001b[0mshape\u001b[0m\u001b[0;34m)\u001b[0m\u001b[0;34m\u001b[0m\u001b[0;34m\u001b[0m\u001b[0m\n\u001b[1;32m    226\u001b[0m \u001b[0;34m\u001b[0m\u001b[0m\n\u001b[0;32m--> 227\u001b[0;31m         \u001b[0mharmonic\u001b[0m \u001b[0;34m=\u001b[0m \u001b[0mharmonic_synth\u001b[0m\u001b[0;34m(\u001b[0m\u001b[0mpitch\u001b[0m\u001b[0;34m,\u001b[0m \u001b[0mamplitudes\u001b[0m\u001b[0;34m,\u001b[0m \u001b[0mself\u001b[0m\u001b[0;34m.\u001b[0m\u001b[0msample_rate\u001b[0m\u001b[0;34m)\u001b[0m\u001b[0;34m\u001b[0m\u001b[0;34m\u001b[0m\u001b[0m\n\u001b[0m\u001b[1;32m    228\u001b[0m \u001b[0;34m\u001b[0m\u001b[0m\n\u001b[1;32m    229\u001b[0m         \u001b[0mimpulse\u001b[0m \u001b[0;34m=\u001b[0m \u001b[0mamp_to_impulse_response\u001b[0m\u001b[0;34m(\u001b[0m\u001b[0mparam_noise\u001b[0m\u001b[0;34m,\u001b[0m \u001b[0mself\u001b[0m\u001b[0;34m.\u001b[0m\u001b[0mblock_size\u001b[0m\u001b[0;34m)\u001b[0m\u001b[0;34m\u001b[0m\u001b[0;34m\u001b[0m\u001b[0m\n",
      "\u001b[0;31mKeyboardInterrupt\u001b[0m: "
     ]
    }
   ],
   "source": [
    "import soundfile as sf\n",
    "\n",
    "for e in tqdm(range(epochs)):\n",
    "    for batch in dataloader:\n",
    "        s = batch['signals'].to(device)\n",
    "        p = batch['pitches'].unsqueeze(-1).to(device)\n",
    "        l = batch['loudness'].unsqueeze(-1).to(device)\n",
    "\n",
    "        l = (l - mean_loudness) / std_loudness\n",
    "\n",
    "        y = ddsp_model(s, p, l).squeeze(-1)\n",
    "\n",
    "        ori_stft = multiscale_fft(\n",
    "            s,\n",
    "            config[\"train\"][\"scales\"],\n",
    "            config[\"train\"][\"overlap\"],\n",
    "        )\n",
    "        rec_stft = multiscale_fft(\n",
    "            y,\n",
    "            config[\"train\"][\"scales\"],\n",
    "            config[\"train\"][\"overlap\"],\n",
    "        )\n",
    "\n",
    "        loss = 0\n",
    "        for s_x, s_y in zip(ori_stft, rec_stft):\n",
    "            lin_loss = (s_x - s_y).abs().mean()\n",
    "            log_loss = (safe_log(s_x) - safe_log(s_y)).abs().mean()\n",
    "            loss = loss + lin_loss + log_loss\n",
    "\n",
    "        opt.zero_grad()\n",
    "        loss.backward()\n",
    "        opt.step()\n",
    "\n",
    "        writer.add_scalar(\"loss\", loss.item(), step)\n",
    "\n",
    "        step += 1\n",
    "\n",
    "        n_element += 1\n",
    "        mean_loss += (loss.item() - mean_loss) / n_element\n",
    "\n",
    "    if not e % 10:\n",
    "        writer.add_scalar(\"lr\", schedule(e), e)\n",
    "        writer.add_scalar(\"reverb_decay\", ddsp_model.reverb.decay.item(), e)\n",
    "        writer.add_scalar(\"reverb_wet\", ddsp_model.reverb.wet.item(), e)\n",
    "        # scheduler.step()\n",
    "        if mean_loss < best_loss:\n",
    "            best_loss = mean_loss\n",
    "            torch.save(\n",
    "                ddsp_model.state_dict(),\n",
    "                path.join(args.ROOT, args.NAME, \"state.pth\"),\n",
    "            )\n",
    "\n",
    "        mean_loss = 0\n",
    "        n_element = 0\n",
    "\n",
    "        audio = torch.cat([s, y], -1).reshape(-1).detach().cpu().numpy()\n",
    "\n",
    "        sf.write(\n",
    "            path.join(args.ROOT, args.NAME, f\"eval_{e:06d}.wav\"),\n",
    "            audio,\n",
    "            config[\"preprocess\"][\"sample_rate\"],\n",
    "        )\n"
   ]
  },
  {
   "cell_type": "code",
   "execution_count": null,
   "metadata": {},
   "outputs": [
    {
     "name": "stdout",
     "output_type": "stream",
     "text": [
      "torch.Size([1, 512, 652])\n"
     ]
    }
   ],
   "source": [
    "t = torch.zeros(1, 400)\n",
    "r = torch.zeros(1, 256)\n",
    "hidden = torch.cat([\n",
    "            t,\n",
    "            r\n",
    "        ], -1)\n",
    "\n",
    "conv = torch.nn.Conv1d(1, 512, 5, stride=1)\n",
    "g = conv(hidden.unsqueeze(1))\n",
    "print(g.shape)\n"
   ]
  }
 ],
 "metadata": {
  "kernelspec": {
   "display_name": "Python 3.8.5 ('base')",
   "language": "python",
   "name": "python3"
  },
  "language_info": {
   "codemirror_mode": {
    "name": "ipython",
    "version": 3
   },
   "file_extension": ".py",
   "mimetype": "text/x-python",
   "name": "python",
   "nbconvert_exporter": "python",
   "pygments_lexer": "ipython3",
   "version": "3.8.5"
  },
  "orig_nbformat": 4,
  "vscode": {
   "interpreter": {
    "hash": "74e9452f59dbd6e3c7713ab707f05756754026fd1fa12e62d8045d15ad45af3c"
   }
  }
 },
 "nbformat": 4,
 "nbformat_minor": 2
}
