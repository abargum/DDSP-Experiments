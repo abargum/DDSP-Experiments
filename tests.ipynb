{
 "cells": [
  {
   "cell_type": "code",
   "execution_count": 3,
   "metadata": {},
   "outputs": [],
   "source": [
    "import crepe\n",
    "import numpy as np\n",
    "import librosa\n",
    "import matplotlib.pyplot as plt\n",
    "import torch\n",
    "import torchaudio\n",
    "\n",
    "input, sr = librosa.load(\"audio-files/training-data/synth/synth.wav\", sr=16000, mono=True)\n",
    "input = input[:128000]"
   ]
  },
  {
   "cell_type": "markdown",
   "metadata": {},
   "source": [
    "### F0 and Loudness non-torch ###"
   ]
  },
  {
   "cell_type": "code",
   "execution_count": 4,
   "metadata": {},
   "outputs": [
    {
     "name": "stdout",
     "output_type": "stream",
     "text": [
      "26/26 [==============================] - 3s 9ms/step\n",
      "799\n"
     ]
    },
    {
     "data": {
      "text/plain": [
       "[<matplotlib.lines.Line2D at 0x1f4f40033a0>]"
      ]
     },
     "execution_count": 4,
     "metadata": {},
     "output_type": "execute_result"
    },
    {
     "data": {
      "image/png": "[encoded data removed]",
      "text/plain": [
       "<Figure size 432x288 with 1 Axes>"
      ]
     },
     "metadata": {
      "needs_background": "light"
     },
     "output_type": "display_data"
    }
   ],
   "source": [
    "from encoders import Pitch_Extractor\n",
    "import torch\n",
    "\n",
    "block_size = 160\n",
    "\n",
    "extract_f0 = Pitch_Extractor(sample_rate=sr, block_size=block_size)\n",
    "pitch = extract_f0(torch.tensor(input))\n",
    "print(len(pitch))\n",
    "plt.plot(pitch)"
   ]
  },
  {
   "cell_type": "code",
   "execution_count": 5,
   "metadata": {},
   "outputs": [
    {
     "name": "stdout",
     "output_type": "stream",
     "text": [
      "1024\n"
     ]
    },
    {
     "name": "stderr",
     "output_type": "stream",
     "text": [
      "d:\\Student projects\\ML-AND\\DDSP-Experiments\\encoders.py:55: FutureWarning: Pass sr=16000, n_fft=2048 as keyword args. From version 0.10 passing these as positional arguments will result in an error\n",
      "  f = librosa.fft_frequencies(self.sample_rate, self.n_fft)\n",
      "c:\\Users\\Me-Lab_Chimaera\\anaconda3\\lib\\site-packages\\librosa\\core\\convert.py:1332: RuntimeWarning: divide by zero encountered in log10\n",
      "  + 2 * np.log10(f_sq)\n"
     ]
    },
    {
     "data": {
      "text/plain": [
       "[<matplotlib.lines.Line2D at 0x1f4faedeee0>]"
      ]
     },
     "execution_count": 5,
     "metadata": {},
     "output_type": "execute_result"
    },
    {
     "data": {
      "image/png": "[encoded data removed]",
      "text/plain": [
       "<Figure size 432x288 with 1 Axes>"
      ]
     },
     "metadata": {
      "needs_background": "light"
     },
     "output_type": "display_data"
    }
   ],
   "source": [
    "from encoders import Loudness_Extractor\n",
    "\n",
    "n_fft = 2048\n",
    "\n",
    "extract_vol = Loudness_Extractor(n_fft=2048, sample_rate=sr, block_size=block_size)\n",
    "vol = extract_vol(torch.tensor(input))\n",
    "print(len(vol))\n",
    "plt.plot(vol)"
   ]
  },
  {
   "cell_type": "markdown",
   "metadata": {},
   "source": [
    "### F0 and Loudness torch ###"
   ]
  },
  {
   "cell_type": "code",
   "execution_count": 7,
   "metadata": {},
   "outputs": [
    {
     "name": "stderr",
     "output_type": "stream",
     "text": [
      "audio-files\\training-data\\synth\\synth.wav:   0%|          | 0/1 [00:00<?, ?it/s]d:\\Student projects\\ML-AND\\DDSP-Experiments\\datasets\\dataset_signal.py:12: FutureWarning: Pass sr=16000 as keyword args. From version 0.10 passing these as positional arguments will result in an error\n",
      "  x, sr = li.load(f, sample_rate, mono=True)\n",
      "audio-files\\training-data\\synth\\synth.wav: 100%|██████████| 1/1 [00:00<00:00,  5.55it/s]"
     ]
    },
    {
     "name": "stdout",
     "output_type": "stream",
     "text": [
      "Size of dataset: 2 \n",
      "Size of sig batch: torch.Size([2, 64000])\n"
     ]
    },
    {
     "name": "stderr",
     "output_type": "stream",
     "text": [
      "\n"
     ]
    }
   ],
   "source": [
    "from datasets.dataset_signal import Dataset\n",
    "import torch\n",
    "import yaml\n",
    "from effortless_config import Config\n",
    "\n",
    "class args(Config):\n",
    "    CONFIG = \"config.yaml\"\n",
    "\n",
    "args.parse_args(\"\")\n",
    "with open(args.CONFIG, \"r\") as config:\n",
    "    config = yaml.safe_load(config)\n",
    "\n",
    "sample_rate = config[\"preprocess\"][\"sample_rate\"]\n",
    "\n",
    "dataset = Dataset(config)\n",
    "batch_size = config[\"hyperparams\"][\"batch_size\"]\n",
    "dataloader = torch.utils.data.DataLoader(dataset,\n",
    "                                        batch_size,\n",
    "                                        shuffle=False,\n",
    "                                        drop_last=False,\n",
    "                                        )\n",
    "\n",
    "print(\"Size of dataset:\", len(dataset), \"\\nSize of sig batch:\", next(iter(dataloader)).size())"
   ]
  },
  {
   "cell_type": "code",
   "execution_count": 8,
   "metadata": {},
   "outputs": [],
   "source": [
    "class Torch_MFCC_Extractor(torch.nn.Module):\n",
    "    def __init__(self, n_fft, sample_rate, block_size, device):\n",
    "        super().__init__()\n",
    "        self.n_fft = n_fft\n",
    "        self.sample_rate = sample_rate\n",
    "        self.block_size = block_size\n",
    "        self.device = device\n",
    "\n",
    "        self.mfcc = torchaudio.transforms.MFCC(sample_rate=sample_rate,\n",
    "                                            n_mfcc=30,\n",
    "                                            log_mels=True,\n",
    "                                            melkwargs={\"n_fft\": self.n_fft, \"hop_length\": int(self.n_fft * (1 - 0.75)), \n",
    "                                            \"center\": True, \"n_mels\": 128, \"f_min\": 20.0, \"f_max\": 8000.0,}\n",
    "                                            ).to(self.device)\n",
    "\n",
    "    def forward(self, sig):\n",
    "        length = sig.shape[-1] // int(self.n_fft * (1 - 0.75))\n",
    "        mfccs = self.mfcc(sig)\n",
    "        return mfccs[:, :, :length]\n",
    "\n",
    "\n"
   ]
  },
  {
   "cell_type": "code",
   "execution_count": 13,
   "metadata": {},
   "outputs": [
    {
     "name": "stdout",
     "output_type": "stream",
     "text": [
      "torch.Size([400])\n",
      "Size of dataset: 81 \n",
      "Size of sig batch: torch.Size([16, 64000]) \n",
      "Size of sig batch: torch.Size([16, 400]) \n",
      "Size of sig batch: torch.Size([16, 400])\n"
     ]
    }
   ],
   "source": [
    "from datasets.dataset_all import Dataset, get_files\n",
    "from effortless_config import Config\n",
    "import yaml\n",
    "import torch\n",
    "\n",
    "#get_files(\"config.yaml\")\n",
    "\n",
    "class args(Config):\n",
    "    CONFIG = \"config.yaml\"\n",
    "\n",
    "args.parse_args(\"\")\n",
    "with open(args.CONFIG, \"r\") as config:\n",
    "    config = yaml.safe_load(config)\n",
    "\n",
    "out_dir = config[\"preprocess\"][\"out_dir\"]\n",
    "\n",
    "dataset = Dataset(out_dir)\n",
    "\n",
    "print(dataset[3]['pitches'].size())\n",
    "\n",
    "batch_size = config[\"hyperparams\"][\"batch_size\"]\n",
    "dataloader = torch.utils.data.DataLoader(dataset,\n",
    "                                        batch_size,\n",
    "                                        True,\n",
    "                                        drop_last=True,\n",
    ")\n",
    "\n",
    "print(\"Size of dataset:\", len(dataset), \"\\nSize of sig batch:\", next(iter(dataloader))['signals'].size(), \"\\nSize of sig batch:\", next(iter(dataloader))['pitches'].size(), \"\\nSize of sig batch:\", next(iter(dataloader))['loudness'].size())"
   ]
  },
  {
   "cell_type": "code",
   "execution_count": 14,
   "metadata": {},
   "outputs": [
    {
     "name": "stdout",
     "output_type": "stream",
     "text": [
      "-25.775494576645215\n"
     ]
    },
    {
     "data": {
      "text/plain": [
       "124.99999999999999"
      ]
     },
     "execution_count": 14,
     "metadata": {},
     "output_type": "execute_result"
    }
   ],
   "source": [
    "import numpy as np\n",
    "\n",
    "f1 = 554\n",
    "f2 = 125\n",
    "n = 12 * np.log2(f2/f1)\n",
    "print(n)\n",
    "\n",
    "pow(2, n/12) * f1"
   ]
  },
  {
   "cell_type": "code",
   "execution_count": 15,
   "metadata": {},
   "outputs": [
    {
     "data": {
      "text/plain": [
       "130.815"
      ]
     },
     "execution_count": 15,
     "metadata": {},
     "output_type": "execute_result"
    }
   ],
   "source": [
    "pow(2, -12/12) * 261.63"
   ]
  },
  {
   "cell_type": "code",
   "execution_count": 18,
   "metadata": {},
   "outputs": [
    {
     "name": "stdout",
     "output_type": "stream",
     "text": [
      "Size of dataset: 81 \n",
      "Size of sig batch: torch.Size([16, 64000]) \n",
      "Size of sig batch: torch.Size([16, 400]) \n",
      "Size of sig batch: torch.Size([16, 400]) \n",
      "Size of sig batch: torch.Size([16, 256])\n"
     ]
    }
   ],
   "source": [
    "from datasets.dataset_w_embedding import Dataset, get_files\n",
    "from effortless_config import Config\n",
    "import yaml\n",
    "import torch\n",
    "\n",
    "class args(Config):\n",
    "    CONFIG = \"config.yaml\"\n",
    "\n",
    "args.parse_args(\"\")\n",
    "with open(args.CONFIG, \"r\") as config:\n",
    "    config = yaml.safe_load(config)\n",
    "\n",
    "out_dir = config[\"preprocess\"][\"out_dir\"]\n",
    "\n",
    "#get_files(\"config.yaml\")\n",
    "\n",
    "dataset = Dataset(out_dir)\n",
    "\n",
    "batch_size = config[\"hyperparams\"][\"batch_size\"]\n",
    "dataloader = torch.utils.data.DataLoader(dataset,\n",
    "                                        batch_size,\n",
    "                                        True,\n",
    "                                        drop_last=False,\n",
    ")\n",
    "\n",
    "\n",
    "print(\"Size of dataset:\", len(dataset), \"\\nSize of sig batch:\", next(iter(dataloader))['signals'].size(), \"\\nSize of sig batch:\", next(iter(dataloader))['pitches'].size(), \"\\nSize of sig batch:\", next(iter(dataloader))['loudness'].size(), \"\\nSize of sig batch:\", next(iter(dataloader))['embeddings'].size())"
   ]
  }
 ],
 "metadata": {
  "kernelspec": {
   "display_name": "Python 3.9.12 ('base')",
   "language": "python",
   "name": "python3"
  },
  "language_info": {
   "codemirror_mode": {
    "name": "ipython",
    "version": 3
   },
   "file_extension": ".py",
   "mimetype": "text/x-python",
   "name": "python",
   "nbconvert_exporter": "python",
   "pygments_lexer": "ipython3",
   "version": "3.9.12"
  },
  "orig_nbformat": 4,
  "vscode": {
   "interpreter": {
    "hash": "d14eec7a70b15df254ac1ea217638b23a4f413adccbe2ef552ea76f41ff5b606"
   }
  }
 },
 "nbformat": 4,
 "nbformat_minor": 2
}
