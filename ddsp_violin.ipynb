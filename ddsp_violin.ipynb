{
 "cells": [
  {
   "cell_type": "code",
   "execution_count": 1,
   "metadata": {},
   "outputs": [],
   "source": [
    "import math\n",
    "import yaml\n",
    "import librosa\n",
    "import torch\n",
    "import torch.nn as nn\n",
    "from os import path\n",
    "import numpy as np\n",
    "from tqdm import tqdm\n",
    "import matplotlib.pyplot as plt\n",
    "from effortless_config import Config\n",
    "from torch.utils.data import DataLoader\n",
    "from torch.utils.tensorboard import SummaryWriter\n",
    "\n",
    "from core import harmonic_synth, amp_to_impulse_response, fft_convolve\n",
    "from core import mlp, gru, scale_function, remove_above_nyquist, upsample, get_scheduler, multiscale_fft, safe_log, mean_std_loudness"
   ]
  },
  {
   "cell_type": "code",
   "execution_count": 2,
   "metadata": {},
   "outputs": [
    {
     "name": "stdout",
     "output_type": "stream",
     "text": [
      "Using device: cuda:0\n",
      "DDSP_with_features(\n",
      "  (latent_z): Latent_Z(\n",
      "    (z_vector): Torch_MFCC_Extractor(\n",
      "      (mfcc): MFCC(\n",
      "        (amplitude_to_DB): AmplitudeToDB()\n",
      "        (MelSpectrogram): MelSpectrogram(\n",
      "          (spectrogram): Spectrogram()\n",
      "          (mel_scale): MelScale()\n",
      "        )\n",
      "      )\n",
      "    )\n",
      "    (norm_layer): InstanceNorm1d(30, eps=1e-05, momentum=0.1, affine=True, track_running_stats=False)\n",
      "    (gru): GRU(30, 512, batch_first=True)\n",
      "    (dense_z): Linear(in_features=512, out_features=16, bias=True)\n",
      "  )\n",
      "  (decoder): Decoder_with_Z(\n",
      "    (in_mlps): ModuleList(\n",
      "      (0): Sequential(\n",
      "        (0): Linear(in_features=1, out_features=512, bias=True)\n",
      "        (1): LayerNorm((512,), eps=1e-05, elementwise_affine=True)\n",
      "        (2): ReLU()\n",
      "        (3): Linear(in_features=512, out_features=512, bias=True)\n",
      "        (4): LayerNorm((512,), eps=1e-05, elementwise_affine=True)\n",
      "        (5): ReLU()\n",
      "        (6): Linear(in_features=512, out_features=512, bias=True)\n",
      "        (7): LayerNorm((512,), eps=1e-05, elementwise_affine=True)\n",
      "        (8): ReLU()\n",
      "      )\n",
      "      (1): Sequential(\n",
      "        (0): Linear(in_features=1, out_features=512, bias=True)\n",
      "        (1): LayerNorm((512,), eps=1e-05, elementwise_affine=True)\n",
      "        (2): ReLU()\n",
      "        (3): Linear(in_features=512, out_features=512, bias=True)\n",
      "        (4): LayerNorm((512,), eps=1e-05, elementwise_affine=True)\n",
      "        (5): ReLU()\n",
      "        (6): Linear(in_features=512, out_features=512, bias=True)\n",
      "        (7): LayerNorm((512,), eps=1e-05, elementwise_affine=True)\n",
      "        (8): ReLU()\n",
      "      )\n",
      "    )\n",
      "    (in_mlp_z): Sequential(\n",
      "      (0): Linear(in_features=16, out_features=512, bias=True)\n",
      "      (1): LayerNorm((512,), eps=1e-05, elementwise_affine=True)\n",
      "      (2): ReLU()\n",
      "      (3): Linear(in_features=512, out_features=512, bias=True)\n",
      "      (4): LayerNorm((512,), eps=1e-05, elementwise_affine=True)\n",
      "      (5): ReLU()\n",
      "      (6): Linear(in_features=512, out_features=512, bias=True)\n",
      "      (7): LayerNorm((512,), eps=1e-05, elementwise_affine=True)\n",
      "      (8): ReLU()\n",
      "    )\n",
      "    (gru): GRU(1536, 512, batch_first=True)\n",
      "    (out_mlp): Sequential(\n",
      "      (0): Linear(in_features=514, out_features=512, bias=True)\n",
      "      (1): LayerNorm((512,), eps=1e-05, elementwise_affine=True)\n",
      "      (2): ReLU()\n",
      "      (3): Linear(in_features=512, out_features=512, bias=True)\n",
      "      (4): LayerNorm((512,), eps=1e-05, elementwise_affine=True)\n",
      "      (5): ReLU()\n",
      "      (6): Linear(in_features=512, out_features=512, bias=True)\n",
      "      (7): LayerNorm((512,), eps=1e-05, elementwise_affine=True)\n",
      "      (8): ReLU()\n",
      "    )\n",
      "    (output_to_harmonic): Linear(in_features=512, out_features=101, bias=True)\n",
      "    (output_to_noise): Linear(in_features=512, out_features=65, bias=True)\n",
      "  )\n",
      "  (reverb): Reverb()\n",
      ")\n"
     ]
    }
   ],
   "source": [
    "from models import DDSP_signal_only, DDSP_with_features\n",
    "device = torch.device(\"cuda:0\" if torch.cuda.is_available() else \"cpu\")\n",
    "print(\"Using device:\", device)\n",
    "\n",
    "class args(Config):\n",
    "    CONFIG = \"config_violin.yaml\"\n",
    "\n",
    "args.parse_args(\"\")\n",
    "with open(args.CONFIG, \"r\") as config:\n",
    "    config = yaml.safe_load(config)\n",
    "\n",
    "ddsp_model = DDSP_with_features(**config[\"model\"]).to(device)\n",
    "print(ddsp_model)"
   ]
  },
  {
   "cell_type": "code",
   "execution_count": 3,
   "metadata": {},
   "outputs": [
    {
     "name": "stdout",
     "output_type": "stream",
     "text": [
      "Size of dataset: 216 \n",
      "Size of sig batch: torch.Size([16, 64000]) \n",
      "Size of sig batch: torch.Size([16, 400]) \n",
      "Size of sig batch: torch.Size([16, 400])\n"
     ]
    }
   ],
   "source": [
    "from datasets.dataset_all import Dataset, get_files\n",
    "from effortless_config import Config\n",
    "import yaml\n",
    "import torch\n",
    "\n",
    "#get_files(\"config_violin.yaml\")\n",
    "\n",
    "class args(Config):\n",
    "    CONFIG = \"config_violin.yaml\"\n",
    "\n",
    "args.parse_args(\"\")\n",
    "with open(args.CONFIG, \"r\") as config:\n",
    "    config = yaml.safe_load(config)\n",
    "\n",
    "out_dir = config[\"preprocess\"][\"out_dir\"]\n",
    "\n",
    "dataset = Dataset(out_dir)\n",
    "batch_size = config[\"hyperparams\"][\"batch_size\"]\n",
    "dataloader = torch.utils.data.DataLoader(dataset,\n",
    "                                        batch_size,\n",
    "                                        True,\n",
    "                                        drop_last=True,\n",
    "                                        )\n",
    "\n",
    "print(\"Size of dataset:\", len(dataset), \"\\nSize of sig batch:\", next(iter(dataloader))['signals'].size(), \"\\nSize of sig batch:\", next(iter(dataloader))['pitches'].size(), \"\\nSize of sig batch:\", next(iter(dataloader))['loudness'].size())"
   ]
  },
  {
   "cell_type": "code",
   "execution_count": 4,
   "metadata": {},
   "outputs": [],
   "source": [
    "class args(Config):\n",
    "    CONFIG = \"config.yaml\"\n",
    "    NAME = \"debug\"\n",
    "    ROOT = \"runs_violin2\"\n",
    "    STEPS = 500000\n",
    "    START_LR = 1e-3\n",
    "    STOP_LR = 1e-4\n",
    "    DECAY_OVER = 400000\n",
    "\n",
    "mean_loudness, std_loudness = mean_std_loudness(dataloader)\n",
    "config[\"data\"][\"mean_loudness\"] = mean_loudness\n",
    "config[\"data\"][\"std_loudness\"] = std_loudness\n",
    "\n",
    "writer = SummaryWriter(path.join(args.ROOT, args.NAME), flush_secs=20)\n",
    "\n",
    "with open(path.join(args.ROOT, args.NAME, \"config.yaml\"), \"w\") as out_config:\n",
    "    yaml.safe_dump(config, out_config)\n",
    "\n",
    "opt = torch.optim.Adam(ddsp_model.parameters(), lr=args.START_LR)\n",
    "\n",
    "schedule = get_scheduler(\n",
    "    len(dataloader),\n",
    "    args.START_LR,\n",
    "    args.STOP_LR,\n",
    "    args.DECAY_OVER,\n",
    ")\n",
    "\n",
    "best_loss = float(\"inf\")\n",
    "mean_loss = 0\n",
    "n_element = 0\n",
    "step = 0\n",
    "epochs = int(np.ceil(args.STEPS / len(dataloader)))"
   ]
  },
  {
   "cell_type": "code",
   "execution_count": 5,
   "metadata": {},
   "outputs": [
    {
     "name": "stderr",
     "output_type": "stream",
     "text": [
      "  8%|▊         | 3083/38462 [56:46<10:51:30,  1.10s/it]\n"
     ]
    },
    {
     "ename": "KeyboardInterrupt",
     "evalue": "",
     "output_type": "error",
     "traceback": [
      "\u001b[1;31m---------------------------------------------------------------------------\u001b[0m",
      "\u001b[1;31mKeyboardInterrupt\u001b[0m                         Traceback (most recent call last)",
      "\u001b[1;32md:\\Student projects\\ML-AND\\DDSP-Experiments\\ddsp_violin.ipynb Cell 5\u001b[0m in \u001b[0;36m<cell line: 5>\u001b[1;34m()\u001b[0m\n\u001b[0;32m     <a href='vscode-notebook-cell:/d%3A/Student%20projects/ML-AND/DDSP-Experiments/ddsp_violin.ipynb#W4sZmlsZQ%3D%3D?line=33'>34</a>\u001b[0m loss\u001b[39m.\u001b[39mbackward()\n\u001b[0;32m     <a href='vscode-notebook-cell:/d%3A/Student%20projects/ML-AND/DDSP-Experiments/ddsp_violin.ipynb#W4sZmlsZQ%3D%3D?line=34'>35</a>\u001b[0m opt\u001b[39m.\u001b[39mstep()\n\u001b[1;32m---> <a href='vscode-notebook-cell:/d%3A/Student%20projects/ML-AND/DDSP-Experiments/ddsp_violin.ipynb#W4sZmlsZQ%3D%3D?line=36'>37</a>\u001b[0m writer\u001b[39m.\u001b[39madd_scalar(\u001b[39m\"\u001b[39m\u001b[39mloss\u001b[39m\u001b[39m\"\u001b[39m, loss\u001b[39m.\u001b[39;49mitem(), step)\n\u001b[0;32m     <a href='vscode-notebook-cell:/d%3A/Student%20projects/ML-AND/DDSP-Experiments/ddsp_violin.ipynb#W4sZmlsZQ%3D%3D?line=38'>39</a>\u001b[0m step \u001b[39m+\u001b[39m\u001b[39m=\u001b[39m \u001b[39m1\u001b[39m\n\u001b[0;32m     <a href='vscode-notebook-cell:/d%3A/Student%20projects/ML-AND/DDSP-Experiments/ddsp_violin.ipynb#W4sZmlsZQ%3D%3D?line=40'>41</a>\u001b[0m n_element \u001b[39m+\u001b[39m\u001b[39m=\u001b[39m \u001b[39m1\u001b[39m\n",
      "\u001b[1;31mKeyboardInterrupt\u001b[0m: "
     ]
    }
   ],
   "source": [
    "import soundfile as sf\n",
    "\n",
    "losses = []\n",
    "\n",
    "for e in tqdm(range(epochs)):\n",
    "    total_loss = 0\n",
    "    for batch in dataloader:\n",
    "        s = batch['signals'].to(device)\n",
    "        p = batch['pitches'].unsqueeze(-1).to(device)\n",
    "        l = batch['loudness'].unsqueeze(-1).to(device)\n",
    "\n",
    "        l = (l - mean_loudness) / std_loudness\n",
    "\n",
    "        y = ddsp_model(s, p, l).squeeze(-1)\n",
    "\n",
    "        ori_stft = multiscale_fft(\n",
    "            s,\n",
    "            config[\"train\"][\"scales\"],\n",
    "            config[\"train\"][\"overlap\"],\n",
    "        )\n",
    "        rec_stft = multiscale_fft(\n",
    "            y,\n",
    "            config[\"train\"][\"scales\"],\n",
    "            config[\"train\"][\"overlap\"],\n",
    "        )\n",
    "\n",
    "        loss = 0\n",
    "        for s_x, s_y in zip(ori_stft, rec_stft):\n",
    "            lin_loss = (s_x - s_y).abs().mean()\n",
    "            log_loss = (safe_log(s_x) - safe_log(s_y)).abs().mean()\n",
    "            loss = loss + lin_loss + log_loss\n",
    "\n",
    "        opt.zero_grad()\n",
    "        loss.backward()\n",
    "        opt.step()\n",
    "\n",
    "        writer.add_scalar(\"loss\", loss.item(), step)\n",
    "\n",
    "        step += 1\n",
    "\n",
    "        n_element += 1\n",
    "        mean_loss += (loss.item() - mean_loss) / n_element\n",
    "        total_loss += loss.item()\n",
    "\n",
    "    if not e % 10:\n",
    "        writer.add_scalar(\"lr\", schedule(e), e)\n",
    "        writer.add_scalar(\"reverb_decay\", ddsp_model.reverb.decay.item(), e)\n",
    "        writer.add_scalar(\"reverb_wet\", ddsp_model.reverb.wet.item(), e)\n",
    "        # scheduler.step()\n",
    "        if mean_loss < best_loss:\n",
    "            best_loss = mean_loss\n",
    "            torch.save(\n",
    "                ddsp_model.state_dict(),\n",
    "                path.join(args.ROOT, args.NAME, \"state.pth\"),\n",
    "            )\n",
    "\n",
    "        mean_loss = 0\n",
    "        n_element = 0\n",
    "\n",
    "        audio = torch.cat([s, y], -1).reshape(-1).detach().cpu().numpy()\n",
    "\n",
    "        sf.write(\n",
    "            path.join(args.ROOT, args.NAME, f\"eval_{e:06d}.wav\"),\n",
    "            audio,\n",
    "            config[\"preprocess\"][\"sample_rate\"],\n",
    "        )\n",
    "    \n",
    "    total_loss /= len(dataloader)\n",
    "    losses.append(total_loss)\n"
   ]
  },
  {
   "cell_type": "code",
   "execution_count": 6,
   "metadata": {},
   "outputs": [
    {
     "name": "stderr",
     "output_type": "stream",
     "text": [
      "Synth\\synth.wav:   0%|          | 0/1 [00:00<?, ?it/s]d:\\Student projects\\ML-AND\\DDSP-Experiments\\datasets\\dataset_all.py:56: FutureWarning: Pass sr=16000 as keyword args. From version 0.10 passing these as positional arguments will result in an error\n",
      "  x, sr = li.load(f, sample_rate)\n"
     ]
    },
    {
     "name": "stdout",
     "output_type": "stream",
     "text": [
      "26/26 [==============================] - 1s 10ms/step\n"
     ]
    },
    {
     "name": "stderr",
     "output_type": "stream",
     "text": [
      "d:\\Student projects\\ML-AND\\DDSP-Experiments\\datasets\\dataset_all.py:22: FutureWarning: Pass sr=16000, n_fft=2048 as keyword args. From version 0.10 passing these as positional arguments will result in an error\n",
      "  f = li.fft_frequencies(sample_rate, n_fft)\n",
      "c:\\Users\\Me-Lab_Chimaera\\anaconda3\\lib\\site-packages\\librosa\\core\\convert.py:1332: RuntimeWarning: divide by zero encountered in log10\n",
      "  + 2 * np.log10(f_sq)\n",
      "Synth\\synth.wav: 100%|██████████| 1/1 [00:02<00:00,  2.75s/it]"
     ]
    },
    {
     "name": "stdout",
     "output_type": "stream",
     "text": [
      "Size of dataset: 2 \n",
      "Size of sig batch: torch.Size([1, 64000]) \n",
      "Size of sig batch: torch.Size([1, 400]) \n",
      "Size of sig batch: torch.Size([1, 400])\n"
     ]
    },
    {
     "name": "stderr",
     "output_type": "stream",
     "text": [
      "\n"
     ]
    }
   ],
   "source": [
    "from datasets.dataset_all import Dataset, get_files\n",
    "import torch\n",
    "import yaml\n",
    "from effortless_config import Config\n",
    "\n",
    "get_files(\"config_test.yaml\")\n",
    "\n",
    "class args(Config):\n",
    "    CONFIG = \"config_test.yaml\"\n",
    "\n",
    "args.parse_args(\"\")\n",
    "with open(args.CONFIG, \"r\") as config:\n",
    "    config = yaml.safe_load(config)\n",
    "\n",
    "out_dir = config[\"preprocess\"][\"out_dir\"]\n",
    "\n",
    "dataset = Dataset(out_dir)\n",
    "batch_size = config[\"hyperparams\"][\"batch_size\"]\n",
    "dataloader = torch.utils.data.DataLoader(dataset,\n",
    "                                        batch_size,\n",
    "                                        True,\n",
    "                                        drop_last=True,\n",
    "                                        )\n",
    "\n",
    "print(\"Size of dataset:\", len(dataset), \"\\nSize of sig batch:\", next(iter(dataloader))['signals'].size(), \"\\nSize of sig batch:\", next(iter(dataloader))['pitches'].size(), \"\\nSize of sig batch:\", next(iter(dataloader))['loudness'].size())"
   ]
  },
  {
   "cell_type": "code",
   "execution_count": 7,
   "metadata": {},
   "outputs": [
    {
     "name": "stdout",
     "output_type": "stream",
     "text": [
      "Using device: cuda:0\n",
      "-4.517404079437256 3.236548900604248\n",
      "tensor([[0.0463, 0.0799, 0.0790,  ..., 0.0120, 0.0096, 0.0078]],\n",
      "       device='cuda:0', grad_fn=<SqueezeBackward1>)\n"
     ]
    }
   ],
   "source": [
    "from models import DDSP_with_features\n",
    "import soundfile as sf\n",
    "\n",
    "device = torch.device(\"cuda:0\" if torch.cuda.is_available() else \"cpu\")\n",
    "print(\"Using device:\", device)\n",
    "\n",
    "class args(Config):\n",
    "    CONFIG = \"config_test.yaml\"\n",
    "\n",
    "args.parse_args(\"\")\n",
    "with open(args.CONFIG, \"r\") as config:\n",
    "    config = yaml.safe_load(config)\n",
    "\n",
    "ddsp_model = DDSP_with_features(**config[\"model\"]).to(device)\n",
    "\n",
    "ddsp_model.load_state_dict(torch.load(\"runs_violin2/debug/state.pth\"))\n",
    "\n",
    "class args(Config):\n",
    "    CONFIG = \"runs_violin/debug/config.yaml\"\n",
    "\n",
    "args.parse_args(\"\")\n",
    "with open(args.CONFIG, \"r\") as config:\n",
    "    config = yaml.safe_load(config)\n",
    "\n",
    "mean_loudness = config[\"data\"][\"mean_loudness\"]\n",
    "std_loudness = config[\"data\"][\"std_loudness\"]\n",
    "\n",
    "print(mean_loudness, std_loudness)\n",
    "\n",
    "batch = next(iter(dataloader))\n",
    "s = batch['signals'].to(device)\n",
    "p = batch['pitches'].unsqueeze(-1).to(device)\n",
    "l = batch['loudness'].unsqueeze(-1).to(device)\n",
    "\n",
    "l = (l - mean_loudness) / std_loudness\n",
    "\n",
    "y = ddsp_model(s, p, l).squeeze(-1)\n",
    "\n",
    "print(y)\n",
    "\n",
    "y = torch.cat([s, y], -1).reshape(-1).detach().cpu().numpy()\n",
    "\n",
    "sf.write(\"synth_to_violin.wav\", y, 16000)"
   ]
  }
 ],
 "metadata": {
  "kernelspec": {
   "display_name": "Python 3.9.12 ('base')",
   "language": "python",
   "name": "python3"
  },
  "language_info": {
   "codemirror_mode": {
    "name": "ipython",
    "version": 3
   },
   "file_extension": ".py",
   "mimetype": "text/x-python",
   "name": "python",
   "nbconvert_exporter": "python",
   "pygments_lexer": "ipython3",
   "version": "3.9.12"
  },
  "orig_nbformat": 4,
  "vscode": {
   "interpreter": {
    "hash": "d14eec7a70b15df254ac1ea217638b23a4f413adccbe2ef552ea76f41ff5b606"
   }
  }
 },
 "nbformat": 4,
 "nbformat_minor": 2
}
